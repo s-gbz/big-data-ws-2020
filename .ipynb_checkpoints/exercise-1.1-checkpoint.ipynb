{
 "cells": [
  {
   "cell_type": "markdown",
   "metadata": {},
   "source": [
    "# Aufgabe 1.1"
   ]
  },
  {
   "cell_type": "markdown",
   "metadata": {},
   "source": [
    "Programmieren Sie eine Funktion die ¨uberpr¨uft, ob zwei Zahlen miteinander befreundet sind.\n",
    "Zwei Zahlen sind dann miteinander befreundet, wenn die Summe ihrer jeweiligen Teiler (bis auf die Zahl selbst) die jeweils andere Zahl ergibt!\n",
    "\n",
    "Beispiel:\n",
    "Die Zahl 220 besitzt die Teiler 1, 2, 4, 5, 10, 11, 20, 22, 44, 55, 110 und 220.\n",
    "1 + 2 + 4 + 5 + 10 + 11 + 20 + 22 + 44 + 55 + 110 = 284\n",
    "\n",
    "Die Zahl 284 besitzt die Teiler 1, 2, 4, 71, 142 und 284.\n",
    "1 + 2 + 4 + 71 + 142 = 220\n",
    "220 und 284 sind also befreundete Zahlen.\n",
    "\n",
    "Pr¨ufen Sie bitte ihre Funktion mit dem **befreundeten Zahlenpaar (17296,18416)** und dem **nicht befreundeten Zahlenpaar (9332,9842)**."
   ]
  },
  {
   "cell_type": "code",
   "execution_count": 162,
   "metadata": {},
   "outputs": [],
   "source": [
    "import math\n",
    "import bisect"
   ]
  },
  {
   "cell_type": "code",
   "execution_count": 163,
   "metadata": {},
   "outputs": [],
   "source": [
    "def checkIfNumbersAreFriends(value_1, value_2):\n",
    "    numbersAreFriends = False\n",
    "    \n",
    "    divisorsOfValue_1 = findDivisers(value_1)\n",
    "    divisorsOfValue_1 = sorted(divisorsOfValue_1)\n",
    "    divisorsOfValue_2 = findDivisers(value_2)\n",
    "    divisorsOfValue_2 = sorted(divisorsOfValue_2)\n",
    "        \n",
    "    setOfDivisorSumsOfValue_1 = calculateSetOfDivisorSums(divisorsOfValue_1, value_1)\n",
    "    setOfDivisorSumsOfValue_2 = calculateSetOfDivisorSums(divisorsOfValue_2, value_2)\n",
    "    \n",
    "    return setToCheckContainsValue(setOfDivisorSumsOfValue_1, value_2) and setToCheckContainsValue(setOfDivisorSumsOfValue_2, value_1)\n"
   ]
  },
  {
   "cell_type": "code",
   "execution_count": 164,
   "metadata": {},
   "outputs": [],
   "source": [
    "def findDivisors(value):\n",
    "    foundDivisors = [1]\n",
    "    \n",
    "    for i in range(2,int(math.sqrt(value))+1):\n",
    "        if value%i == 0:\n",
    "            foundDivisers.extend([i,int(value/i)])\n",
    "            \n",
    "    foundDivisors.extend([value])\n",
    "    print(\"Divisors of \" + str(value) + \": \" + str(foundDivisors))\n",
    "    \n",
    "    return list(set(foundDivisors))"
   ]
  },
  {
   "cell_type": "code",
   "execution_count": 165,
   "metadata": {},
   "outputs": [],
   "source": [
    "def calculateSetOfDivisorSums(valueSet, originalValue):\n",
    "    setOfDivisorSums = {0}\n",
    "    \n",
    "    for i in valueSet:\n",
    "        previousSum = 0\n",
    "        for j in valueSet:\n",
    "            newSum = i+j\n",
    "            previousSum = previousSum + newSum\n",
    "            \n",
    "            setOfDivisorSums.add(newSum)\n",
    "            setOfDivisorSums.add(previousSum)\n",
    "            \n",
    "    #print(\"All sums of \", originalValue, \": \\n\")\n",
    "    #print(sorted(list(setOfDivisorSums)))\n",
    "    \n",
    "    return setOfDivisorSums"
   ]
  },
  {
   "cell_type": "code",
   "execution_count": 166,
   "metadata": {},
   "outputs": [],
   "source": [
    "def setToCheckContainsValue(setToCheck, value):\n",
    "    if value in setToCheck:\n",
    "        return True\n",
    "    else:\n",
    "        return False"
   ]
  },
  {
   "cell_type": "markdown",
   "metadata": {},
   "source": [
    "**Pseudocode für alternativen Suchalgorithmus**:\n",
    "\n",
    "```\n",
    "Wähle Zahl X\n",
    "\n",
    "Gibt es bei den Divisoren kleinere Zahlen als X?\n",
    "  Ja:\n",
    "    Ist X Teil der Divisoren?\n",
    "     Ja: Win\n",
    "     Nein: X = X - (Größte Zahl kleiner als X)\n",
    "           Wiederhole Funktion mit neuem X\n",
    "  Nein:\n",
    "   Suche nicht erfolgreich. Abbrechen\n",
    "```"
   ]
  },
  {
   "cell_type": "code",
   "execution_count": 167,
   "metadata": {},
   "outputs": [],
   "source": [
    "def targetValueCanBeSummedBySetValue(setToCheck, targetValue):\n",
    "    \n",
    "    indexOfNextSmallerValueThanTargetValue = bisect.bisect(setToCheck, targetValue)\n",
    "    return setToCheck[indexOfNextSmallerValueThanTargetValue-1]"
   ]
  },
  {
   "cell_type": "markdown",
   "metadata": {},
   "source": [
    "## Freundschaft <3"
   ]
  },
  {
   "cell_type": "code",
   "execution_count": 168,
   "metadata": {},
   "outputs": [
    {
     "name": "stdout",
     "output_type": "stream",
     "text": [
      "Divisors of 220: [1, 2, 110, 4, 55, 5, 44, 10, 22, 11, 20, 220]\n",
      "Divisors of 284: [1, 2, 142, 4, 71, 284]\n",
      "\n",
      "Indeed! The numbers  220  &  284  are friends :)\n"
     ]
    }
   ],
   "source": [
    "if checkIfNumbersAreFriends(220, 284):\n",
    "    print(\"\\nIndeed! The numbers \", 220, \" & \", 284, \" are friends :)\")\n",
    "else:\n",
    "    print(\"\\nOh no! No friendship for \", 220, \" & \", 284, \" :(\")"
   ]
  },
  {
   "cell_type": "markdown",
   "metadata": {},
   "source": [
    "### Noch mehr Freundschaft <3"
   ]
  },
  {
   "cell_type": "code",
   "execution_count": 169,
   "metadata": {},
   "outputs": [
    {
     "name": "stdout",
     "output_type": "stream",
     "text": [
      "Divisors of 17296: [1, 2, 8648, 4, 4324, 8, 2162, 16, 1081, 23, 752, 46, 376, 47, 368, 92, 188, 94, 184, 17296]\n",
      "Divisors of 18416: [1, 2, 9208, 4, 4604, 8, 2302, 16, 1151, 18416]\n",
      "\n",
      "Indeed! The numbers  17296  &  18416  are friends :)\n"
     ]
    }
   ],
   "source": [
    "if checkIfNumbersAreFriends(17296,18416):\n",
    "    print(\"\\nIndeed! The numbers \", 17296, \" & \", 18416, \" are friends :)\")\n",
    "else:\n",
    "    print(\"\\nOh no! No friendship for \", 17296, \" & \", 18416, \" :(\")"
   ]
  },
  {
   "cell_type": "markdown",
   "metadata": {},
   "source": [
    "## Keine Freundschaft </3"
   ]
  },
  {
   "cell_type": "code",
   "execution_count": 170,
   "metadata": {},
   "outputs": [
    {
     "name": "stdout",
     "output_type": "stream",
     "text": [
      "Divisors of 220: [1, 2, 110, 4, 55, 5, 44, 10, 22, 11, 20, 220]\n",
      "Divisors of 221: [1, 13, 17, 221]\n",
      "\n",
      "Oh no! No friendship for  220  &  221  :(\n"
     ]
    }
   ],
   "source": [
    "if checkIfNumbersAreFriends(220, 221):\n",
    "    print(\"\\nIndeed! The numbers \", 220, \" & \", 221, \" are friends :)\")\n",
    "else:\n",
    "    print(\"\\nOh no! No friendship for \", 220, \" & \", 221, \" :(\")"
   ]
  },
  {
   "cell_type": "markdown",
   "metadata": {},
   "source": [
    "### Noch mehr keine Freundschaft <//3"
   ]
  },
  {
   "cell_type": "code",
   "execution_count": 171,
   "metadata": {},
   "outputs": [
    {
     "name": "stdout",
     "output_type": "stream",
     "text": [
      "Divisors of 9332: [1, 2, 4666, 4, 2333, 9332]\n",
      "Divisors of 9842: [1, 2, 4921, 7, 1406, 14, 703, 19, 518, 37, 266, 38, 259, 74, 133, 9842]\n",
      "\n",
      "Oh no! No friendship for  9332  &  9842  :(\n"
     ]
    }
   ],
   "source": [
    "if checkIfNumbersAreFriends(9332, 9842):\n",
    "    print(\"\\nIndeed! The numbers \", 9332, \" & \", 9842, \" are friends :)\")\n",
    "else:\n",
    "    print(\"\\nOh no! No friendship for \", 9332, \" & \", 9842, \" :(\")"
   ]
  },
  {
   "cell_type": "code",
   "execution_count": null,
   "metadata": {},
   "outputs": [],
   "source": []
  },
  {
   "cell_type": "code",
   "execution_count": null,
   "metadata": {},
   "outputs": [],
   "source": []
  },
  {
   "cell_type": "code",
   "execution_count": null,
   "metadata": {},
   "outputs": [],
   "source": []
  },
  {
   "cell_type": "code",
   "execution_count": null,
   "metadata": {},
   "outputs": [],
   "source": []
  },
  {
   "cell_type": "code",
   "execution_count": null,
   "metadata": {},
   "outputs": [],
   "source": []
  },
  {
   "cell_type": "code",
   "execution_count": null,
   "metadata": {},
   "outputs": [],
   "source": []
  },
  {
   "cell_type": "code",
   "execution_count": null,
   "metadata": {},
   "outputs": [],
   "source": []
  }
 ],
 "metadata": {
  "kernelspec": {
   "display_name": "Python 3",
   "language": "python",
   "name": "python3"
  },
  "language_info": {
   "codemirror_mode": {
    "name": "ipython",
    "version": 3
   },
   "file_extension": ".py",
   "mimetype": "text/x-python",
   "name": "python",
   "nbconvert_exporter": "python",
   "pygments_lexer": "ipython3",
   "version": "3.8.3"
  }
 },
 "nbformat": 4,
 "nbformat_minor": 4
}
